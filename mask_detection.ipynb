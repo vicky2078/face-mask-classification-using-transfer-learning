{
 "cells": [
  {
   "cell_type": "code",
   "execution_count": 1,
   "id": "90f8ef44",
   "metadata": {},
   "outputs": [],
   "source": [
    "from tensorflow.keras.applications.mobilenet_v2 import preprocess_input\n",
    "from tensorflow.keras.preprocessing.image import img_to_array\n",
    "from tensorflow.keras.models import load_model\n",
    "import cv2\n",
    "import numpy as np\n",
    "import face_recognition"
   ]
  },
  {
   "cell_type": "code",
   "execution_count": 2,
   "id": "7262e6be",
   "metadata": {},
   "outputs": [],
   "source": [
    "maskNet = load_model(\"face_mask1.h5\")"
   ]
  },
  {
   "cell_type": "code",
   "execution_count": 19,
   "id": "d30ae319",
   "metadata": {},
   "outputs": [],
   "source": [
    "img=cv2.imread('im1.jpg')                                    \n",
    "rgb = cv2.cvtColor(img, cv2.COLOR_BGR2RGB)\n",
    "gray = cv2.cvtColor(img, cv2.COLOR_BGR2GRAY)\n",
    "boxes = face_recognition.face_locations(rgb,model='cnn',number_of_times_to_upsample=2)"
   ]
  },
  {
   "cell_type": "code",
   "execution_count": 20,
   "id": "454887be",
   "metadata": {},
   "outputs": [
    {
     "name": "stdout",
     "output_type": "stream",
     "text": [
      "1/1 [==============================] - 0s 69ms/step\n",
      "Mask: 100.00%\n"
     ]
    }
   ],
   "source": [
    "for top, right, bottom, left in boxes:\n",
    "    face = img[top:bottom, left:right]\n",
    "    face = cv2.cvtColor(face, cv2.COLOR_BGR2RGB)\n",
    "    face = cv2.resize(face, (224, 224))\n",
    "    face = face.reshape(1,224,224,3)\n",
    "    face = preprocess_input(face)\n",
    "    face = np.array(face, dtype=\"float32\")\n",
    "    preds = maskNet.predict(face, batch_size=32)\n",
    "    for i in preds:\n",
    "        \n",
    "        (mask, withoutMask) = i\n",
    "        label = \"Mask\" if mask > withoutMask else \"No Mask\"\n",
    "        label = \"{}: {:.2f}%\".format(label, max(mask, withoutMask) * 100)\n",
    "        print(label)\n",
    "    #print(preds)\n",
    "    #cv2.imwrite('test_crop.png', crop_img)"
   ]
  },
  {
   "cell_type": "code",
   "execution_count": null,
   "id": "527972f1",
   "metadata": {},
   "outputs": [],
   "source": []
  }
 ],
 "metadata": {
  "kernelspec": {
   "display_name": "Python 3 (ipykernel)",
   "language": "python",
   "name": "python3"
  },
  "language_info": {
   "codemirror_mode": {
    "name": "ipython",
    "version": 3
   },
   "file_extension": ".py",
   "mimetype": "text/x-python",
   "name": "python",
   "nbconvert_exporter": "python",
   "pygments_lexer": "ipython3",
   "version": "3.10.10"
  }
 },
 "nbformat": 4,
 "nbformat_minor": 5
}
